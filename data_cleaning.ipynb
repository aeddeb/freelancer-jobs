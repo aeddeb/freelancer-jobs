{
 "metadata": {
  "language_info": {
   "codemirror_mode": {
    "name": "ipython",
    "version": 3
   },
   "file_extension": ".py",
   "mimetype": "text/x-python",
   "name": "python",
   "nbconvert_exporter": "python",
   "pygments_lexer": "ipython3",
   "version": "3.7.4-final"
  },
  "orig_nbformat": 2,
  "kernelspec": {
   "name": "Python 3.7.4 64-bit ('base': conda)",
   "display_name": "Python 3.7.4 64-bit ('base': conda)",
   "metadata": {
    "interpreter": {
     "hash": "f9c39bf632ef8500871edbb1b7037742e4089d2a034c8bdba315f2eb6ddb3f62"
    }
   }
  }
 },
 "nbformat": 4,
 "nbformat_minor": 2,
 "cells": [
  {
   "cell_type": "markdown",
   "metadata": {},
   "source": [
    "# Data Cleaning\n",
    "\n",
    "## Ali Eddeb\n",
    "\n",
    "### Sept 06, 2020\n",
    "\n",
    "Data: ~18,000 jobs scraped from freelancer.com\n",
    "\n",
    "Goal of this notebook: clean the data"
   ]
  },
  {
   "cell_type": "code",
   "execution_count": 1,
   "metadata": {},
   "outputs": [],
   "source": [
    "#libraries\n",
    "import numpy as np\n",
    "import pandas as pd\n",
    "import matplotlib.pyplot as plt\n",
    "from sklearn.preprocessing import MultiLabelBinarizer\n",
    "import ast"
   ]
  },
  {
   "cell_type": "code",
   "execution_count": 2,
   "metadata": {},
   "outputs": [],
   "source": [
    "#load in data\n",
    "df = pd.read_csv('data/2020-09-06_data.csv', header=0)"
   ]
  },
  {
   "cell_type": "code",
   "execution_count": 3,
   "metadata": {},
   "outputs": [
    {
     "output_type": "execute_result",
     "data": {
      "text/plain": "                                           job_title  \\\n0  I need 20 Typewritters for typing 2190 page in...   \n1                          College Application Essay   \n2  Write a Training Website Content ( Read-  Give...   \n3                            Develop Excel Dashboard   \n4              Looking for a Front End Web Developer   \n\n                                         description  \\\n0                 I need you to write some articles.   \n1  Hello. I&#39;m looking for someone who can write m...   \n2  Hi,I am looking for someone to write a trainin...   \n3  Looking for professional to Develop Excel Dash...   \n4  Hello Folks!We are looking for a freelance fro...   \n\n                                                 url  \\\n0  /projects/articles/need-typewritters-for-typin...   \n1  /projects/research-writing/college-application...   \n2  /projects/content-writing/write-training-websi...   \n3           /projects/excel/develop-excel-dashboard/   \n4  /projects/html/looking-for-front-end-web-27255...   \n\n                                                tags           price  avg_bid  \\\n0  [&#39;Article Rewriting&#39;, &#39;Article Writing&#39;, &#39;Ghos...  $15 - $25 / hr    False   \n1  [&#39;Academic Writing&#39;, &#39;Creative Writing&#39;, &#39;Essa...             $10     True   \n2  [&#39;Article Rewriting&#39;, &#39;Article Writing&#39;, &#39;Cont...       $10 - $30    False   \n3         [&#39;Excel&#39;, &#39;Excel VBA&#39;, &#39;Microsoft Office&#39;]             $56     True   \n4  [&#39;Bootstrap&#39;, &#39;CSS&#39;, &#39;HTML&#39;, &#39;PHP&#39;, &#39;Website D...      $20 - $171    False   \n\n     bids days_remaining  verified_payment promotions  contest  \n0  0 bids    6 days left             False         []    False  \n1  2 bids    6 days left             False         []    False  \n2  0 bids    6 days left              True         []    False  \n3  4 bids    6 days left              True         []    False  \n4  0 bids    6 days left             False         []    False  ",
      "text/html": "<div>\n<style scoped>\n    .dataframe tbody tr th:only-of-type {\n        vertical-align: middle;\n    }\n\n    .dataframe tbody tr th {\n        vertical-align: top;\n    }\n\n    .dataframe thead th {\n        text-align: right;\n    }\n</style>\n<table border=\"1\" class=\"dataframe\">\n  <thead>\n    <tr style=\"text-align: right;\">\n      <th></th>\n      <th>job_title</th>\n      <th>description</th>\n      <th>url</th>\n      <th>tags</th>\n      <th>price</th>\n      <th>avg_bid</th>\n      <th>bids</th>\n      <th>days_remaining</th>\n      <th>verified_payment</th>\n      <th>promotions</th>\n      <th>contest</th>\n    </tr>\n  </thead>\n  <tbody>\n    <tr>\n      <td>0</td>\n      <td>I need 20 Typewritters for typing 2190 page in...</td>\n      <td>I need you to write some articles.</td>\n      <td>/projects/articles/need-typewritters-for-typin...</td>\n      <td>['Article Rewriting', 'Article Writing', 'Ghos...</td>\n      <td>$15 - $25 / hr</td>\n      <td>False</td>\n      <td>0 bids</td>\n      <td>6 days left</td>\n      <td>False</td>\n      <td>[]</td>\n      <td>False</td>\n    </tr>\n    <tr>\n      <td>1</td>\n      <td>College Application Essay</td>\n      <td>Hello. I'm looking for someone who can write m...</td>\n      <td>/projects/research-writing/college-application...</td>\n      <td>['Academic Writing', 'Creative Writing', 'Essa...</td>\n      <td>$10</td>\n      <td>True</td>\n      <td>2 bids</td>\n      <td>6 days left</td>\n      <td>False</td>\n      <td>[]</td>\n      <td>False</td>\n    </tr>\n    <tr>\n      <td>2</td>\n      <td>Write a Training Website Content ( Read-  Give...</td>\n      <td>Hi,I am looking for someone to write a trainin...</td>\n      <td>/projects/content-writing/write-training-websi...</td>\n      <td>['Article Rewriting', 'Article Writing', 'Cont...</td>\n      <td>$10 - $30</td>\n      <td>False</td>\n      <td>0 bids</td>\n      <td>6 days left</td>\n      <td>True</td>\n      <td>[]</td>\n      <td>False</td>\n    </tr>\n    <tr>\n      <td>3</td>\n      <td>Develop Excel Dashboard</td>\n      <td>Looking for professional to Develop Excel Dash...</td>\n      <td>/projects/excel/develop-excel-dashboard/</td>\n      <td>['Excel', 'Excel VBA', 'Microsoft Office']</td>\n      <td>$56</td>\n      <td>True</td>\n      <td>4 bids</td>\n      <td>6 days left</td>\n      <td>True</td>\n      <td>[]</td>\n      <td>False</td>\n    </tr>\n    <tr>\n      <td>4</td>\n      <td>Looking for a Front End Web Developer</td>\n      <td>Hello Folks!We are looking for a freelance fro...</td>\n      <td>/projects/html/looking-for-front-end-web-27255...</td>\n      <td>['Bootstrap', 'CSS', 'HTML', 'PHP', 'Website D...</td>\n      <td>$20 - $171</td>\n      <td>False</td>\n      <td>0 bids</td>\n      <td>6 days left</td>\n      <td>False</td>\n      <td>[]</td>\n      <td>False</td>\n    </tr>\n  </tbody>\n</table>\n</div>"
     },
     "metadata": {},
     "execution_count": 3
    }
   ],
   "source": [
    "df.head()"
   ]
  },
  {
   "cell_type": "code",
   "execution_count": 4,
   "metadata": {
    "tags": []
   },
   "outputs": [
    {
     "output_type": "stream",
     "name": "stdout",
     "text": "&lt;class &#39;pandas.core.frame.DataFrame&#39;&gt;\nRangeIndex: 18706 entries, 0 to 18705\nData columns (total 11 columns):\njob_title           18706 non-null object\ndescription         18706 non-null object\nurl                 18706 non-null object\ntags                18706 non-null object\nprice               18706 non-null object\navg_bid             18706 non-null bool\nbids                18706 non-null object\ndays_remaining      18706 non-null object\nverified_payment    18706 non-null bool\npromotions          18706 non-null object\ncontest             18706 non-null bool\ndtypes: bool(3), object(8)\nmemory usage: 1.2+ MB\n"
    }
   ],
   "source": [
    "#what are the data types:\n",
    "df.info()"
   ]
  },
  {
   "cell_type": "markdown",
   "metadata": {},
   "source": [
    "### Actions required for cleaning/processing for each feature:\n",
    "\n",
    "*Italicized* features indicated cleaning is required.\n",
    "\n",
    "- job_title: text needs to be vectorized\n",
    "- description: text needs to be vectorized (let's try doing the job_title first and then explore description)\n",
    "- url: none\n",
    "- tags: one hot encode\n",
    "- *pay*: \n",
    "    - if range, 1) convert to pay min and max and 2) convert to numeric (e.g. int)\n",
    "    - if not, convert to int\n",
    "- *avg_bid*: convert bolean to int\n",
    "- *bids*: convert to int\n",
    "- *days_remaining*: convert to int\n",
    "- *verified_payment*: convert bolean to int\n",
    "- promotions: one hot encode\n",
    "- *contest*: convert bolean to int"
   ]
  },
  {
   "cell_type": "code",
   "execution_count": 5,
   "metadata": {},
   "outputs": [],
   "source": [
    "#convert boleans to int\n",
    "df['avg_bid'] = np.where(df['avg_bid'] == True, 1, 0)\n",
    "df['verified_payment'] = np.where(df['verified_payment'] == True, 1, 0)\n",
    "df['contest'] = np.where(df['contest'] == True, 1, 0)"
   ]
  },
  {
   "cell_type": "code",
   "execution_count": 6,
   "metadata": {},
   "outputs": [
    {
     "output_type": "execute_result",
     "data": {
      "text/plain": "                                           job_title  \\\n0  I need 20 Typewritters for typing 2190 page in...   \n1                          College Application Essay   \n2  Write a Training Website Content ( Read-  Give...   \n3                            Develop Excel Dashboard   \n4              Looking for a Front End Web Developer   \n\n                                         description  \\\n0                 I need you to write some articles.   \n1  Hello. I&#39;m looking for someone who can write m...   \n2  Hi,I am looking for someone to write a trainin...   \n3  Looking for professional to Develop Excel Dash...   \n4  Hello Folks!We are looking for a freelance fro...   \n\n                                                 url  \\\n0  /projects/articles/need-typewritters-for-typin...   \n1  /projects/research-writing/college-application...   \n2  /projects/content-writing/write-training-websi...   \n3           /projects/excel/develop-excel-dashboard/   \n4  /projects/html/looking-for-front-end-web-27255...   \n\n                                                tags           price  avg_bid  \\\n0  [&#39;Article Rewriting&#39;, &#39;Article Writing&#39;, &#39;Ghos...  $15 - $25 / hr        0   \n1  [&#39;Academic Writing&#39;, &#39;Creative Writing&#39;, &#39;Essa...             $10        1   \n2  [&#39;Article Rewriting&#39;, &#39;Article Writing&#39;, &#39;Cont...       $10 - $30        0   \n3         [&#39;Excel&#39;, &#39;Excel VBA&#39;, &#39;Microsoft Office&#39;]             $56        1   \n4  [&#39;Bootstrap&#39;, &#39;CSS&#39;, &#39;HTML&#39;, &#39;PHP&#39;, &#39;Website D...      $20 - $171        0   \n\n     bids days_remaining  verified_payment promotions  contest  \n0  0 bids    6 days left                 0         []        0  \n1  2 bids    6 days left                 0         []        0  \n2  0 bids    6 days left                 1         []        0  \n3  4 bids    6 days left                 1         []        0  \n4  0 bids    6 days left                 0         []        0  ",
      "text/html": "<div>\n<style scoped>\n    .dataframe tbody tr th:only-of-type {\n        vertical-align: middle;\n    }\n\n    .dataframe tbody tr th {\n        vertical-align: top;\n    }\n\n    .dataframe thead th {\n        text-align: right;\n    }\n</style>\n<table border=\"1\" class=\"dataframe\">\n  <thead>\n    <tr style=\"text-align: right;\">\n      <th></th>\n      <th>job_title</th>\n      <th>description</th>\n      <th>url</th>\n      <th>tags</th>\n      <th>price</th>\n      <th>avg_bid</th>\n      <th>bids</th>\n      <th>days_remaining</th>\n      <th>verified_payment</th>\n      <th>promotions</th>\n      <th>contest</th>\n    </tr>\n  </thead>\n  <tbody>\n    <tr>\n      <td>0</td>\n      <td>I need 20 Typewritters for typing 2190 page in...</td>\n      <td>I need you to write some articles.</td>\n      <td>/projects/articles/need-typewritters-for-typin...</td>\n      <td>['Article Rewriting', 'Article Writing', 'Ghos...</td>\n      <td>$15 - $25 / hr</td>\n      <td>0</td>\n      <td>0 bids</td>\n      <td>6 days left</td>\n      <td>0</td>\n      <td>[]</td>\n      <td>0</td>\n    </tr>\n    <tr>\n      <td>1</td>\n      <td>College Application Essay</td>\n      <td>Hello. I'm looking for someone who can write m...</td>\n      <td>/projects/research-writing/college-application...</td>\n      <td>['Academic Writing', 'Creative Writing', 'Essa...</td>\n      <td>$10</td>\n      <td>1</td>\n      <td>2 bids</td>\n      <td>6 days left</td>\n      <td>0</td>\n      <td>[]</td>\n      <td>0</td>\n    </tr>\n    <tr>\n      <td>2</td>\n      <td>Write a Training Website Content ( Read-  Give...</td>\n      <td>Hi,I am looking for someone to write a trainin...</td>\n      <td>/projects/content-writing/write-training-websi...</td>\n      <td>['Article Rewriting', 'Article Writing', 'Cont...</td>\n      <td>$10 - $30</td>\n      <td>0</td>\n      <td>0 bids</td>\n      <td>6 days left</td>\n      <td>1</td>\n      <td>[]</td>\n      <td>0</td>\n    </tr>\n    <tr>\n      <td>3</td>\n      <td>Develop Excel Dashboard</td>\n      <td>Looking for professional to Develop Excel Dash...</td>\n      <td>/projects/excel/develop-excel-dashboard/</td>\n      <td>['Excel', 'Excel VBA', 'Microsoft Office']</td>\n      <td>$56</td>\n      <td>1</td>\n      <td>4 bids</td>\n      <td>6 days left</td>\n      <td>1</td>\n      <td>[]</td>\n      <td>0</td>\n    </tr>\n    <tr>\n      <td>4</td>\n      <td>Looking for a Front End Web Developer</td>\n      <td>Hello Folks!We are looking for a freelance fro...</td>\n      <td>/projects/html/looking-for-front-end-web-27255...</td>\n      <td>['Bootstrap', 'CSS', 'HTML', 'PHP', 'Website D...</td>\n      <td>$20 - $171</td>\n      <td>0</td>\n      <td>0 bids</td>\n      <td>6 days left</td>\n      <td>0</td>\n      <td>[]</td>\n      <td>0</td>\n    </tr>\n  </tbody>\n</table>\n</div>"
     },
     "metadata": {},
     "execution_count": 6
    }
   ],
   "source": [
    "df.head()"
   ]
  },
  {
   "cell_type": "code",
   "execution_count": 7,
   "metadata": {},
   "outputs": [
    {
     "output_type": "execute_result",
     "data": {
      "text/plain": "&#39;0&#39;"
     },
     "metadata": {},
     "execution_count": 7
    }
   ],
   "source": [
    "#convert bids to int\n",
    "#this involves removing the words 'bids' or 'entries'\n",
    "#example:\n",
    "df.loc[0,'bids'].replace('bids','').strip()"
   ]
  },
  {
   "cell_type": "code",
   "execution_count": 8,
   "metadata": {},
   "outputs": [],
   "source": [
    "df['bids'] = df['bids'].str.replace('bids','').str.replace('entries','').str.strip().astype(int)"
   ]
  },
  {
   "cell_type": "code",
   "execution_count": 9,
   "metadata": {},
   "outputs": [
    {
     "output_type": "execute_result",
     "data": {
      "text/plain": "array([&#39;6 days left&#39;, &#39;4 days left&#39;, &#39;2 days left&#39;, &#39;9 days left&#39;,\n       &#39;14 days left&#39;, &#39;11 days left&#39;, &#39;29 days left&#39;, &#39;3 days left&#39;,\n       &#39;13 days left&#39;, &#39;19 days left&#39;, &#39;20 hours left&#39;, &#39;19 hours left&#39;,\n       &#39;7 days left&#39;, &#39;16 hours left&#39;, &#39;27 days left&#39;, &#39;5 days left&#39;,\n       &#39;13 hours left&#39;, &#39;12 hours left&#39;, &#39;11 hours left&#39;, &#39;8 days left&#39;,\n       &#39;9 hours left&#39;, &#39;20 days left&#39;, &#39;24 days left&#39;, &#39;5 hours left&#39;,\n       &#39;2 hours left&#39;, &#39;28 days left&#39;, &#39;1 day left&#39;, &#39;705 days left&#39;,\n       &#39;Ended&#39;, &#39;18 days left&#39;, &#39;10 days left&#39;, &#39;12 days left&#39;,\n       &#39;16 days left&#39;, &#39;23 hours left&#39;, &#39;21 hours left&#39;, &#39;18 hours left&#39;,\n       &#39;17 hours left&#39;, &#39;17 days left&#39;, &#39;15 hours left&#39;, &#39;14 hours left&#39;,\n       &#39;10 hours left&#39;, &#39;8 hours left&#39;, &#39;7 hours left&#39;, &#39;6 hours left&#39;,\n       &#39;1 hour left&#39;, &#39;26 days left&#39;, &#39;4 hours left&#39;, &#39;22 hours left&#39;,\n       &#39;25 days left&#39;, &#39;15 days left&#39;, &#39;3 hours left&#39;, &#39;Ending left&#39;,\n       &#39;23 days left&#39;, &#39;22 days left&#39;, &#39;21 days left&#39;, &#39;2272 days left&#39;,\n       &#39;4415 days left&#39;, &#39;175 days left&#39;, &#39;1940 days left&#39;], dtype=object)"
     },
     "metadata": {},
     "execution_count": 9
    }
   ],
   "source": [
    "#lets explore 'days_remaining' column\n",
    "df['days_remaining'].unique()"
   ]
  },
  {
   "cell_type": "markdown",
   "metadata": {},
   "source": [
    "There are both hours and days remaining. So what I can do is save it in terms of days remaining and hours will be converted a fraction of a day. Jobs that have ended will be defined as 0."
   ]
  },
  {
   "cell_type": "code",
   "execution_count": 10,
   "metadata": {},
   "outputs": [],
   "source": [
    "#Creating masks (True/False) for the 3 scenarios\n",
    "\n",
    "#CASE 1: DAYS\n",
    "days_mask = df['days_remaining'].str.contains('day')\n",
    "#CASE 2: HOURS\n",
    "hours_mask = df['days_remaining'].str.contains('hour')\n",
    "#CASE 3: ENDED\n",
    "end_mask = df['days_remaining'].str.contains('End')"
   ]
  },
  {
   "cell_type": "code",
   "execution_count": 11,
   "metadata": {},
   "outputs": [
    {
     "output_type": "execute_result",
     "data": {
      "text/plain": "0        6\n1        6\n2        6\n3        6\n4        6\n        ..\n18701    6\n18702    6\n18703    6\n18704    6\n18705    6\nName: days_remaining, Length: 16576, dtype: object"
     },
     "metadata": {},
     "execution_count": 11
    }
   ],
   "source": [
    "#CASE 1: DAYS\n",
    "df.loc[days_mask,'days_remaining'] = df.loc[days_mask,'days_remaining'].str.replace(' days? left','',regex=True)\n",
    "df.loc[days_mask,'days_remaining']"
   ]
  },
  {
   "cell_type": "code",
   "execution_count": 12,
   "metadata": {},
   "outputs": [
    {
     "output_type": "execute_result",
     "data": {
      "text/plain": "363      0.833\n410      0.792\n609      0.667\n909      0.542\n1059       0.5\n         ...  \n18445    0.667\n18449      0.5\n18457    0.042\n18459    0.042\n18613    0.375\nName: days_remaining, Length: 1932, dtype: object"
     },
     "metadata": {},
     "execution_count": 12
    }
   ],
   "source": [
    "#CASE 2: HOURS\n",
    "df.loc[hours_mask,'days_remaining'] = df.loc[hours_mask,'days_remaining'].str.replace(' hours? left','',regex=True).apply(lambda x : round(int(x)/24,3))\n",
    "df.loc[hours_mask,'days_remaining']"
   ]
  },
  {
   "cell_type": "code",
   "execution_count": 13,
   "metadata": {},
   "outputs": [
    {
     "output_type": "execute_result",
     "data": {
      "text/plain": "3188     0\n3429     0\n6224     0\n8223     0\n8426     0\n        ..\n18570    0\n18605    0\n18611    0\n18612    0\n18658    0\nName: days_remaining, Length: 198, dtype: object"
     },
     "metadata": {},
     "execution_count": 13
    }
   ],
   "source": [
    "#CASE 3: Job ENDED or ENDING\n",
    "df.loc[end_mask,'days_remaining'] = df.loc[end_mask,'days_remaining'].apply(lambda x : 0)\n",
    "df.loc[end_mask,'days_remaining']"
   ]
  },
  {
   "cell_type": "code",
   "execution_count": 14,
   "metadata": {},
   "outputs": [],
   "source": [
    "#Finally, convert to float\n",
    "df['days_remaining'] = df['days_remaining'].astype(float)"
   ]
  },
  {
   "cell_type": "code",
   "execution_count": 15,
   "metadata": {},
   "outputs": [
    {
     "output_type": "execute_result",
     "data": {
      "text/plain": "                                           job_title  \\\n0  I need 20 Typewritters for typing 2190 page in...   \n1                          College Application Essay   \n2  Write a Training Website Content ( Read-  Give...   \n3                            Develop Excel Dashboard   \n4              Looking for a Front End Web Developer   \n\n                                         description  \\\n0                 I need you to write some articles.   \n1  Hello. I&#39;m looking for someone who can write m...   \n2  Hi,I am looking for someone to write a trainin...   \n3  Looking for professional to Develop Excel Dash...   \n4  Hello Folks!We are looking for a freelance fro...   \n\n                                                 url  \\\n0  /projects/articles/need-typewritters-for-typin...   \n1  /projects/research-writing/college-application...   \n2  /projects/content-writing/write-training-websi...   \n3           /projects/excel/develop-excel-dashboard/   \n4  /projects/html/looking-for-front-end-web-27255...   \n\n                                                tags           price  avg_bid  \\\n0  [&#39;Article Rewriting&#39;, &#39;Article Writing&#39;, &#39;Ghos...  $15 - $25 / hr        0   \n1  [&#39;Academic Writing&#39;, &#39;Creative Writing&#39;, &#39;Essa...             $10        1   \n2  [&#39;Article Rewriting&#39;, &#39;Article Writing&#39;, &#39;Cont...       $10 - $30        0   \n3         [&#39;Excel&#39;, &#39;Excel VBA&#39;, &#39;Microsoft Office&#39;]             $56        1   \n4  [&#39;Bootstrap&#39;, &#39;CSS&#39;, &#39;HTML&#39;, &#39;PHP&#39;, &#39;Website D...      $20 - $171        0   \n\n   bids  days_remaining  verified_payment promotions  contest  \n0     0             6.0                 0         []        0  \n1     2             6.0                 0         []        0  \n2     0             6.0                 1         []        0  \n3     4             6.0                 1         []        0  \n4     0             6.0                 0         []        0  ",
      "text/html": "<div>\n<style scoped>\n    .dataframe tbody tr th:only-of-type {\n        vertical-align: middle;\n    }\n\n    .dataframe tbody tr th {\n        vertical-align: top;\n    }\n\n    .dataframe thead th {\n        text-align: right;\n    }\n</style>\n<table border=\"1\" class=\"dataframe\">\n  <thead>\n    <tr style=\"text-align: right;\">\n      <th></th>\n      <th>job_title</th>\n      <th>description</th>\n      <th>url</th>\n      <th>tags</th>\n      <th>price</th>\n      <th>avg_bid</th>\n      <th>bids</th>\n      <th>days_remaining</th>\n      <th>verified_payment</th>\n      <th>promotions</th>\n      <th>contest</th>\n    </tr>\n  </thead>\n  <tbody>\n    <tr>\n      <td>0</td>\n      <td>I need 20 Typewritters for typing 2190 page in...</td>\n      <td>I need you to write some articles.</td>\n      <td>/projects/articles/need-typewritters-for-typin...</td>\n      <td>['Article Rewriting', 'Article Writing', 'Ghos...</td>\n      <td>$15 - $25 / hr</td>\n      <td>0</td>\n      <td>0</td>\n      <td>6.0</td>\n      <td>0</td>\n      <td>[]</td>\n      <td>0</td>\n    </tr>\n    <tr>\n      <td>1</td>\n      <td>College Application Essay</td>\n      <td>Hello. I'm looking for someone who can write m...</td>\n      <td>/projects/research-writing/college-application...</td>\n      <td>['Academic Writing', 'Creative Writing', 'Essa...</td>\n      <td>$10</td>\n      <td>1</td>\n      <td>2</td>\n      <td>6.0</td>\n      <td>0</td>\n      <td>[]</td>\n      <td>0</td>\n    </tr>\n    <tr>\n      <td>2</td>\n      <td>Write a Training Website Content ( Read-  Give...</td>\n      <td>Hi,I am looking for someone to write a trainin...</td>\n      <td>/projects/content-writing/write-training-websi...</td>\n      <td>['Article Rewriting', 'Article Writing', 'Cont...</td>\n      <td>$10 - $30</td>\n      <td>0</td>\n      <td>0</td>\n      <td>6.0</td>\n      <td>1</td>\n      <td>[]</td>\n      <td>0</td>\n    </tr>\n    <tr>\n      <td>3</td>\n      <td>Develop Excel Dashboard</td>\n      <td>Looking for professional to Develop Excel Dash...</td>\n      <td>/projects/excel/develop-excel-dashboard/</td>\n      <td>['Excel', 'Excel VBA', 'Microsoft Office']</td>\n      <td>$56</td>\n      <td>1</td>\n      <td>4</td>\n      <td>6.0</td>\n      <td>1</td>\n      <td>[]</td>\n      <td>0</td>\n    </tr>\n    <tr>\n      <td>4</td>\n      <td>Looking for a Front End Web Developer</td>\n      <td>Hello Folks!We are looking for a freelance fro...</td>\n      <td>/projects/html/looking-for-front-end-web-27255...</td>\n      <td>['Bootstrap', 'CSS', 'HTML', 'PHP', 'Website D...</td>\n      <td>$20 - $171</td>\n      <td>0</td>\n      <td>0</td>\n      <td>6.0</td>\n      <td>0</td>\n      <td>[]</td>\n      <td>0</td>\n    </tr>\n  </tbody>\n</table>\n</div>"
     },
     "metadata": {},
     "execution_count": 15
    }
   ],
   "source": [
    "df.head()"
   ]
  },
  {
   "cell_type": "markdown",
   "metadata": {},
   "source": [
    "Now let's deal with the **PAY** which can be:\n",
    "1) a pay range\n",
    "2) an average bid\n",
    "\n",
    "Let's see if there is any unexpected cases (ie. avg bid with a range)"
   ]
  },
  {
   "cell_type": "code",
   "execution_count": 16,
   "metadata": {},
   "outputs": [
    {
     "output_type": "execute_result",
     "data": {
      "text/plain": "Empty DataFrame\nColumns: [job_title, description, url, tags, price, avg_bid, bids, days_remaining, verified_payment, promotions, contest]\nIndex: []",
      "text/html": "<div>\n<style scoped>\n    .dataframe tbody tr th:only-of-type {\n        vertical-align: middle;\n    }\n\n    .dataframe tbody tr th {\n        vertical-align: top;\n    }\n\n    .dataframe thead th {\n        text-align: right;\n    }\n</style>\n<table border=\"1\" class=\"dataframe\">\n  <thead>\n    <tr style=\"text-align: right;\">\n      <th></th>\n      <th>job_title</th>\n      <th>description</th>\n      <th>url</th>\n      <th>tags</th>\n      <th>price</th>\n      <th>avg_bid</th>\n      <th>bids</th>\n      <th>days_remaining</th>\n      <th>verified_payment</th>\n      <th>promotions</th>\n      <th>contest</th>\n    </tr>\n  </thead>\n  <tbody>\n  </tbody>\n</table>\n</div>"
     },
     "metadata": {},
     "execution_count": 16
    }
   ],
   "source": [
    "df[(df['avg_bid'] == 1) & (df['price'].str.contains('-'))]"
   ]
  },
  {
   "cell_type": "markdown",
   "metadata": {},
   "source": [
    "Good, no unexpected cases.\n",
    "\n",
    "Cases:\n",
    "- if range, 1) convert to pay min and max and 2) convert to numeric (e.g. int)\n",
    "- if not, convert to int"
   ]
  },
  {
   "cell_type": "code",
   "execution_count": 17,
   "metadata": {},
   "outputs": [
    {
     "output_type": "execute_result",
     "data": {
      "text/plain": "0         $15 - $25\n1               $10\n2         $10 - $30\n3               $56\n4        $20 - $171\n            ...    \n18701    $20 - $168\n18702      $7 - $58\n18703    $20 - $168\n18704    $20 - $167\n18705    $20 - $168\nName: price, Length: 18706, dtype: object"
     },
     "metadata": {},
     "execution_count": 17
    }
   ],
   "source": [
    "#CASE 1: Convert range to min max\n",
    "\n",
    "#remove 'hr'\n",
    "df['price'] = df['price'].str.replace(' / hr','')\n",
    "df['price']"
   ]
  },
  {
   "cell_type": "code",
   "execution_count": 19,
   "metadata": {},
   "outputs": [],
   "source": [
    "#now create pay max and min \n",
    "df['price_min'] = np.NaN\n",
    "df['price_max'] = np.NaN"
   ]
  },
  {
   "cell_type": "code",
   "execution_count": 18,
   "metadata": {},
   "outputs": [
    {
     "output_type": "execute_result",
     "data": {
      "text/plain": "0          $15 - $25\n2          $10 - $30\n4         $20 - $171\n7        $171 - $512\n8          $10 - $30\n            ...     \n18701     $20 - $168\n18702       $7 - $58\n18703     $20 - $168\n18704     $20 - $167\n18705     $20 - $168\nName: price, Length: 1940, dtype: object"
     },
     "metadata": {},
     "execution_count": 18
    }
   ],
   "source": [
    "#get index of pays that are ranges\n",
    "range_mask = df['price'][df['avg_bid'] == 0]\n",
    "range_mask"
   ]
  },
  {
   "cell_type": "code",
   "execution_count": 21,
   "metadata": {},
   "outputs": [
    {
     "output_type": "execute_result",
     "data": {
      "text/plain": "0          [$15, -, $25]\n2          [$10, -, $30]\n4         [$20, -, $171]\n7        [$171, -, $512]\n8          [$10, -, $30]\n              ...       \n18701     [$20, -, $168]\n18702       [$7, -, $58]\n18703     [$20, -, $168]\n18704     [$20, -, $167]\n18705     [$20, -, $168]\nName: price, Length: 1940, dtype: object"
     },
     "metadata": {},
     "execution_count": 21
    }
   ],
   "source": [
    "df.loc[range_mask.index, 'price'].str.split()"
   ]
  },
  {
   "cell_type": "code",
   "execution_count": 23,
   "metadata": {},
   "outputs": [],
   "source": [
    "#populate the min (first index) and max (last index) pays for pay ranges\n",
    "df.loc[range_mask.index, 'price_min'] = df.loc[range_mask.index, 'price'].str.split().str[0]\n",
    "df.loc[range_mask.index, 'price_max'] = df.loc[range_mask.index, 'price'].str.split().str[-1]"
   ]
  },
  {
   "cell_type": "code",
   "execution_count": 24,
   "metadata": {},
   "outputs": [],
   "source": [
    "#Remove '$' sign for pay, pay_min and pay_max\n",
    "for feature in ['price','price_min','price_max']:\n",
    "    df[feature] = df[feature].str.replace('$','')"
   ]
  },
  {
   "cell_type": "code",
   "execution_count": 25,
   "metadata": {},
   "outputs": [
    {
     "output_type": "execute_result",
     "data": {
      "text/plain": "0        NaN\n2        NaN\n4        NaN\n7        NaN\n8        NaN\n        ... \n18701    NaN\n18702    NaN\n18703    NaN\n18704    NaN\n18705    NaN\nName: price, Length: 1940, dtype: object"
     },
     "metadata": {},
     "execution_count": 25
    }
   ],
   "source": [
    "#remove the pay ranges and replace them with NaNs\n",
    "df.loc[df['avg_bid']==0,'price'] = np.NaN\n",
    "df.loc[df['avg_bid']==0,'price']"
   ]
  },
  {
   "cell_type": "code",
   "execution_count": 26,
   "metadata": {},
   "outputs": [],
   "source": [
    "#convert 'min' to 0\n",
    "df['price_min'] = df['price_min'].str.replace('min','0')"
   ]
  },
  {
   "cell_type": "code",
   "execution_count": 27,
   "metadata": {},
   "outputs": [
    {
     "output_type": "execute_result",
     "data": {
      "text/plain": "                                           job_title  \\\n0  I need 20 Typewritters for typing 2190 page in...   \n1                          College Application Essay   \n2  Write a Training Website Content ( Read-  Give...   \n3                            Develop Excel Dashboard   \n4              Looking for a Front End Web Developer   \n\n                                         description  \\\n0                 I need you to write some articles.   \n1  Hello. I&#39;m looking for someone who can write m...   \n2  Hi,I am looking for someone to write a trainin...   \n3  Looking for professional to Develop Excel Dash...   \n4  Hello Folks!We are looking for a freelance fro...   \n\n                                                 url  \\\n0  /projects/articles/need-typewritters-for-typin...   \n1  /projects/research-writing/college-application...   \n2  /projects/content-writing/write-training-websi...   \n3           /projects/excel/develop-excel-dashboard/   \n4  /projects/html/looking-for-front-end-web-27255...   \n\n                                                tags price  avg_bid  bids  \\\n0  [&#39;Article Rewriting&#39;, &#39;Article Writing&#39;, &#39;Ghos...   NaN        0     0   \n1  [&#39;Academic Writing&#39;, &#39;Creative Writing&#39;, &#39;Essa...    10        1     2   \n2  [&#39;Article Rewriting&#39;, &#39;Article Writing&#39;, &#39;Cont...   NaN        0     0   \n3         [&#39;Excel&#39;, &#39;Excel VBA&#39;, &#39;Microsoft Office&#39;]    56        1     4   \n4  [&#39;Bootstrap&#39;, &#39;CSS&#39;, &#39;HTML&#39;, &#39;PHP&#39;, &#39;Website D...   NaN        0     0   \n\n   days_remaining  verified_payment promotions  contest price_min price_max  \n0             6.0                 0         []        0        15        25  \n1             6.0                 0         []        0       NaN       NaN  \n2             6.0                 1         []        0        10        30  \n3             6.0                 1         []        0       NaN       NaN  \n4             6.0                 0         []        0        20       171  ",
      "text/html": "<div>\n<style scoped>\n    .dataframe tbody tr th:only-of-type {\n        vertical-align: middle;\n    }\n\n    .dataframe tbody tr th {\n        vertical-align: top;\n    }\n\n    .dataframe thead th {\n        text-align: right;\n    }\n</style>\n<table border=\"1\" class=\"dataframe\">\n  <thead>\n    <tr style=\"text-align: right;\">\n      <th></th>\n      <th>job_title</th>\n      <th>description</th>\n      <th>url</th>\n      <th>tags</th>\n      <th>price</th>\n      <th>avg_bid</th>\n      <th>bids</th>\n      <th>days_remaining</th>\n      <th>verified_payment</th>\n      <th>promotions</th>\n      <th>contest</th>\n      <th>price_min</th>\n      <th>price_max</th>\n    </tr>\n  </thead>\n  <tbody>\n    <tr>\n      <td>0</td>\n      <td>I need 20 Typewritters for typing 2190 page in...</td>\n      <td>I need you to write some articles.</td>\n      <td>/projects/articles/need-typewritters-for-typin...</td>\n      <td>['Article Rewriting', 'Article Writing', 'Ghos...</td>\n      <td>NaN</td>\n      <td>0</td>\n      <td>0</td>\n      <td>6.0</td>\n      <td>0</td>\n      <td>[]</td>\n      <td>0</td>\n      <td>15</td>\n      <td>25</td>\n    </tr>\n    <tr>\n      <td>1</td>\n      <td>College Application Essay</td>\n      <td>Hello. I'm looking for someone who can write m...</td>\n      <td>/projects/research-writing/college-application...</td>\n      <td>['Academic Writing', 'Creative Writing', 'Essa...</td>\n      <td>10</td>\n      <td>1</td>\n      <td>2</td>\n      <td>6.0</td>\n      <td>0</td>\n      <td>[]</td>\n      <td>0</td>\n      <td>NaN</td>\n      <td>NaN</td>\n    </tr>\n    <tr>\n      <td>2</td>\n      <td>Write a Training Website Content ( Read-  Give...</td>\n      <td>Hi,I am looking for someone to write a trainin...</td>\n      <td>/projects/content-writing/write-training-websi...</td>\n      <td>['Article Rewriting', 'Article Writing', 'Cont...</td>\n      <td>NaN</td>\n      <td>0</td>\n      <td>0</td>\n      <td>6.0</td>\n      <td>1</td>\n      <td>[]</td>\n      <td>0</td>\n      <td>10</td>\n      <td>30</td>\n    </tr>\n    <tr>\n      <td>3</td>\n      <td>Develop Excel Dashboard</td>\n      <td>Looking for professional to Develop Excel Dash...</td>\n      <td>/projects/excel/develop-excel-dashboard/</td>\n      <td>['Excel', 'Excel VBA', 'Microsoft Office']</td>\n      <td>56</td>\n      <td>1</td>\n      <td>4</td>\n      <td>6.0</td>\n      <td>1</td>\n      <td>[]</td>\n      <td>0</td>\n      <td>NaN</td>\n      <td>NaN</td>\n    </tr>\n    <tr>\n      <td>4</td>\n      <td>Looking for a Front End Web Developer</td>\n      <td>Hello Folks!We are looking for a freelance fro...</td>\n      <td>/projects/html/looking-for-front-end-web-27255...</td>\n      <td>['Bootstrap', 'CSS', 'HTML', 'PHP', 'Website D...</td>\n      <td>NaN</td>\n      <td>0</td>\n      <td>0</td>\n      <td>6.0</td>\n      <td>0</td>\n      <td>[]</td>\n      <td>0</td>\n      <td>20</td>\n      <td>171</td>\n    </tr>\n  </tbody>\n</table>\n</div>"
     },
     "metadata": {},
     "execution_count": 27
    }
   ],
   "source": [
    "df.head()"
   ]
  },
  {
   "cell_type": "code",
   "execution_count": 28,
   "metadata": {},
   "outputs": [
    {
     "output_type": "execute_result",
     "data": {
      "text/plain": "job_title            object\ndescription          object\nurl                  object\ntags                 object\nprice                object\navg_bid               int32\nbids                  int32\ndays_remaining      float64\nverified_payment      int32\npromotions           object\ncontest               int32\nprice_min            object\nprice_max            object\ndtype: object"
     },
     "metadata": {},
     "execution_count": 28
    }
   ],
   "source": [
    "df.dtypes"
   ]
  },
  {
   "cell_type": "markdown",
   "metadata": {},
   "source": [
    "The 3 pay columns need to be converted to a numeric format."
   ]
  },
  {
   "cell_type": "code",
   "execution_count": 29,
   "metadata": {},
   "outputs": [],
   "source": [
    "#Convert pay, pay_min and pay_max to numeric (need to use float because of presence of NaNs)\n",
    "for feature in ['price','price_min','price_max']:\n",
    "    df[feature] = df[feature].astype(float)"
   ]
  },
  {
   "source": [
    "#### Check for duplicates and NaNs"
   ],
   "cell_type": "markdown",
   "metadata": {}
  },
  {
   "cell_type": "code",
   "execution_count": 32,
   "metadata": {},
   "outputs": [
    {
     "output_type": "execute_result",
     "data": {
      "text/plain": "job_title               0\ndescription             0\nurl                     0\ntags                    0\nprice                1940\navg_bid                 0\nbids                    0\ndays_remaining          0\nverified_payment        0\npromotions              0\ncontest                 0\nprice_min           16766\nprice_max           16766\ndtype: int64"
     },
     "metadata": {},
     "execution_count": 32
    }
   ],
   "source": [
    "#checking for NaNsy og\n",
    "#only acceptable NaNs are in the price, price_min and price_max columns\n",
    "df.isna().sum()"
   ]
  },
  {
   "source": [
    "Good. No NaNs in any of the other columns. Now, let's check duplicates."
   ],
   "cell_type": "markdown",
   "metadata": {}
  },
  {
   "cell_type": "code",
   "execution_count": 35,
   "metadata": {},
   "outputs": [
    {
     "output_type": "execute_result",
     "data": {
      "text/plain": "543"
     },
     "metadata": {},
     "execution_count": 35
    }
   ],
   "source": [
    "#duplicates?\n",
    "df.duplicated().sum()"
   ]
  },
  {
   "source": [
    "There are 543 duplicated rows. Let's quickly take a look at a sample of these rows."
   ],
   "cell_type": "markdown",
   "metadata": {}
  },
  {
   "cell_type": "code",
   "execution_count": 36,
   "metadata": {},
   "outputs": [
    {
     "output_type": "execute_result",
     "data": {
      "text/plain": "                                  job_title  \\\n51                FREELANCER TELESALES -- 2   \n52     Update Angular (TS) Firebase website   \n55                 I need a chatbot website   \n199    Simple Github Tutorial for 1 Program   \n349                I-deask Mobile Phone App   \n...                                     ...   \n18478             SAS Expert Required  -- 4   \n18479                Macro and sql expert..   \n18480                  Macro and sql expert   \n18481                       BUILD ME A LOGO   \n18612           Text Logo for SteakCuts.com   \n\n                                             description  \\\n51     * DEDICATED TELESALES EXECUTIVE REQUIRED FOR B...   \n52     Please fully read the task and bid appropriate...   \n55     I want some one to create a chat bot site for ...   \n199    I&#39;m in need of a simple guide to installing 1 ...   \n349    I need both an android &amp; apple app. I would li...   \n...                                                  ...   \n18478  Details will be shared with winning bidder. I ...   \n18479  i need the Macro and sql expert for multiple j...   \n18480  i need the Macro and sql expert for multiple j...   \n18481  D&amp;M FOODS NEED A LOGO FOR SNACKS(CHIPS,KURKURE...   \n18612  I need a text logo for a new project I am deve...   \n\n                                                     url  \\\n51     /projects/internet-marketing/freelancer-telesa...   \n52     /projects/angular-js/update-angular-firebase-w...   \n55                   /projects/php/need-chatbot-website/   \n199    /projects/articles/simple-github-tutorial-for-...   \n349            /projects/android/deask-mobile-phone-app/   \n...                                                  ...   \n18478      /projects/excel/sas-expert-required-26860600/   \n18479           /projects/sql/macro-sql-expert-26855890/   \n18480                    /projects/sql/macro-sql-expert/   \n18481              /contest/build-me-a-logo-1802040.html   \n18612   /contest/text-logo-for-steakcutscom-1796472.html   \n\n                                                    tags   price  avg_bid  \\\n51     [&#39;Internet Marketing&#39;, &#39;Leads&#39;, &#39;Marketing&#39;, &#39;...   250.0        1   \n52     [&#39;AngularJS&#39;, &#39;Google Firebase&#39;, &#39;JavaScript&#39;,...     NaN        0   \n55     [&#39;Graphic Design&#39;, &#39;JavaScript&#39;, &#39;Natural Lang...  3018.0        1   \n199    [&#39;Article Writing&#39;, &#39;Coding&#39;, &#39;GitHub&#39;, &#39;Rust&#39;...    23.0        1   \n349                [&#39;Android&#39;, &#39;Mobile App Development&#39;]   118.0        1   \n...                                                  ...     ...      ...   \n18478              [&#39;Excel&#39;, &#39;SAS&#39;, &#39;SQL&#39;, &#39;Statistics&#39;]     NaN        0   \n18479  [&#39;Excel Macros&#39;, &#39;Microsoft SQL Server&#39;, &#39;MySQ...     NaN        0   \n18480  [&#39;Excel Macros&#39;, &#39;Microsoft SQL Server&#39;, &#39;MySQ...     NaN        0   \n18481  [&#39;Corporate Identity&#39;, &#39;Graphic Design&#39;, &#39;Illu...     NaN        0   \n18612  [&#39;Graphic Design&#39;, &#39;Illustration&#39;, &#39;Illustrato...     NaN        0   \n\n       bids  days_remaining  verified_payment      promotions  contest  \\\n51        1             6.0                 1              []        0   \n52        0             6.0                 1              []        0   \n55        4             6.0                 1              []        0   \n199       5             6.0                 0              []        0   \n349       3             6.0                 1              []        0   \n...     ...             ...               ...             ...      ...   \n18478    55             4.0                 0      [&#39;Sealed&#39;]        0   \n18479    30             4.0                 0      [&#39;Sealed&#39;]        0   \n18480    16             4.0                 0      [&#39;Sealed&#39;]        0   \n18481    75            14.0                 0  [&#39;Guaranteed&#39;]        1   \n18612   976             0.0                 0  [&#39;Guaranteed&#39;]        1   \n\n       price_min  price_max  \n51           NaN        NaN  \n52          10.0       30.0  \n55           NaN        NaN  \n199          NaN        NaN  \n349          NaN        NaN  \n...          ...        ...  \n18478        7.0       58.0  \n18479       27.0       67.0  \n18480       15.0       59.0  \n18481       17.0       17.0  \n18612       80.0       80.0  \n\n[543 rows x 13 columns]",
      "text/html": "<div>\n<style scoped>\n    .dataframe tbody tr th:only-of-type {\n        vertical-align: middle;\n    }\n\n    .dataframe tbody tr th {\n        vertical-align: top;\n    }\n\n    .dataframe thead th {\n        text-align: right;\n    }\n</style>\n<table border=\"1\" class=\"dataframe\">\n  <thead>\n    <tr style=\"text-align: right;\">\n      <th></th>\n      <th>job_title</th>\n      <th>description</th>\n      <th>url</th>\n      <th>tags</th>\n      <th>price</th>\n      <th>avg_bid</th>\n      <th>bids</th>\n      <th>days_remaining</th>\n      <th>verified_payment</th>\n      <th>promotions</th>\n      <th>contest</th>\n      <th>price_min</th>\n      <th>price_max</th>\n    </tr>\n  </thead>\n  <tbody>\n    <tr>\n      <td>51</td>\n      <td>FREELANCER TELESALES -- 2</td>\n      <td>* DEDICATED TELESALES EXECUTIVE REQUIRED FOR B...</td>\n      <td>/projects/internet-marketing/freelancer-telesa...</td>\n      <td>['Internet Marketing', 'Leads', 'Marketing', '...</td>\n      <td>250.0</td>\n      <td>1</td>\n      <td>1</td>\n      <td>6.0</td>\n      <td>1</td>\n      <td>[]</td>\n      <td>0</td>\n      <td>NaN</td>\n      <td>NaN</td>\n    </tr>\n    <tr>\n      <td>52</td>\n      <td>Update Angular (TS) Firebase website</td>\n      <td>Please fully read the task and bid appropriate...</td>\n      <td>/projects/angular-js/update-angular-firebase-w...</td>\n      <td>['AngularJS', 'Google Firebase', 'JavaScript',...</td>\n      <td>NaN</td>\n      <td>0</td>\n      <td>0</td>\n      <td>6.0</td>\n      <td>1</td>\n      <td>[]</td>\n      <td>0</td>\n      <td>10.0</td>\n      <td>30.0</td>\n    </tr>\n    <tr>\n      <td>55</td>\n      <td>I need a chatbot website</td>\n      <td>I want some one to create a chat bot site for ...</td>\n      <td>/projects/php/need-chatbot-website/</td>\n      <td>['Graphic Design', 'JavaScript', 'Natural Lang...</td>\n      <td>3018.0</td>\n      <td>1</td>\n      <td>4</td>\n      <td>6.0</td>\n      <td>1</td>\n      <td>[]</td>\n      <td>0</td>\n      <td>NaN</td>\n      <td>NaN</td>\n    </tr>\n    <tr>\n      <td>199</td>\n      <td>Simple Github Tutorial for 1 Program</td>\n      <td>I'm in need of a simple guide to installing 1 ...</td>\n      <td>/projects/articles/simple-github-tutorial-for-...</td>\n      <td>['Article Writing', 'Coding', 'GitHub', 'Rust'...</td>\n      <td>23.0</td>\n      <td>1</td>\n      <td>5</td>\n      <td>6.0</td>\n      <td>0</td>\n      <td>[]</td>\n      <td>0</td>\n      <td>NaN</td>\n      <td>NaN</td>\n    </tr>\n    <tr>\n      <td>349</td>\n      <td>I-deask Mobile Phone App</td>\n      <td>I need both an android &amp; apple app. I would li...</td>\n      <td>/projects/android/deask-mobile-phone-app/</td>\n      <td>['Android', 'Mobile App Development']</td>\n      <td>118.0</td>\n      <td>1</td>\n      <td>3</td>\n      <td>6.0</td>\n      <td>1</td>\n      <td>[]</td>\n      <td>0</td>\n      <td>NaN</td>\n      <td>NaN</td>\n    </tr>\n    <tr>\n      <td>...</td>\n      <td>...</td>\n      <td>...</td>\n      <td>...</td>\n      <td>...</td>\n      <td>...</td>\n      <td>...</td>\n      <td>...</td>\n      <td>...</td>\n      <td>...</td>\n      <td>...</td>\n      <td>...</td>\n      <td>...</td>\n      <td>...</td>\n    </tr>\n    <tr>\n      <td>18478</td>\n      <td>SAS Expert Required  -- 4</td>\n      <td>Details will be shared with winning bidder. I ...</td>\n      <td>/projects/excel/sas-expert-required-26860600/</td>\n      <td>['Excel', 'SAS', 'SQL', 'Statistics']</td>\n      <td>NaN</td>\n      <td>0</td>\n      <td>55</td>\n      <td>4.0</td>\n      <td>0</td>\n      <td>['Sealed']</td>\n      <td>0</td>\n      <td>7.0</td>\n      <td>58.0</td>\n    </tr>\n    <tr>\n      <td>18479</td>\n      <td>Macro and sql expert..</td>\n      <td>i need the Macro and sql expert for multiple j...</td>\n      <td>/projects/sql/macro-sql-expert-26855890/</td>\n      <td>['Excel Macros', 'Microsoft SQL Server', 'MySQ...</td>\n      <td>NaN</td>\n      <td>0</td>\n      <td>30</td>\n      <td>4.0</td>\n      <td>0</td>\n      <td>['Sealed']</td>\n      <td>0</td>\n      <td>27.0</td>\n      <td>67.0</td>\n    </tr>\n    <tr>\n      <td>18480</td>\n      <td>Macro and sql expert</td>\n      <td>i need the Macro and sql expert for multiple j...</td>\n      <td>/projects/sql/macro-sql-expert/</td>\n      <td>['Excel Macros', 'Microsoft SQL Server', 'MySQ...</td>\n      <td>NaN</td>\n      <td>0</td>\n      <td>16</td>\n      <td>4.0</td>\n      <td>0</td>\n      <td>['Sealed']</td>\n      <td>0</td>\n      <td>15.0</td>\n      <td>59.0</td>\n    </tr>\n    <tr>\n      <td>18481</td>\n      <td>BUILD ME A LOGO</td>\n      <td>D&amp;M FOODS NEED A LOGO FOR SNACKS(CHIPS,KURKURE...</td>\n      <td>/contest/build-me-a-logo-1802040.html</td>\n      <td>['Corporate Identity', 'Graphic Design', 'Illu...</td>\n      <td>NaN</td>\n      <td>0</td>\n      <td>75</td>\n      <td>14.0</td>\n      <td>0</td>\n      <td>['Guaranteed']</td>\n      <td>1</td>\n      <td>17.0</td>\n      <td>17.0</td>\n    </tr>\n    <tr>\n      <td>18612</td>\n      <td>Text Logo for SteakCuts.com</td>\n      <td>I need a text logo for a new project I am deve...</td>\n      <td>/contest/text-logo-for-steakcutscom-1796472.html</td>\n      <td>['Graphic Design', 'Illustration', 'Illustrato...</td>\n      <td>NaN</td>\n      <td>0</td>\n      <td>976</td>\n      <td>0.0</td>\n      <td>0</td>\n      <td>['Guaranteed']</td>\n      <td>1</td>\n      <td>80.0</td>\n      <td>80.0</td>\n    </tr>\n  </tbody>\n</table>\n<p>543 rows × 13 columns</p>\n</div>"
     },
     "metadata": {},
     "execution_count": 36
    }
   ],
   "source": [
    "df[df.duplicated()]"
   ]
  },
  {
   "source": [
    "Let's take a look at a couple of examples of duplicated rows:"
   ],
   "cell_type": "markdown",
   "metadata": {}
  },
  {
   "cell_type": "code",
   "execution_count": 37,
   "metadata": {},
   "outputs": [
    {
     "output_type": "execute_result",
     "data": {
      "text/plain": "                    job_title  \\\n44  FREELANCER TELESALES -- 2   \n51  FREELANCER TELESALES -- 2   \n\n                                          description  \\\n44  * DEDICATED TELESALES EXECUTIVE REQUIRED FOR B...   \n51  * DEDICATED TELESALES EXECUTIVE REQUIRED FOR B...   \n\n                                                  url  \\\n44  /projects/internet-marketing/freelancer-telesa...   \n51  /projects/internet-marketing/freelancer-telesa...   \n\n                                                 tags  price  avg_bid  bids  \\\n44  [&#39;Internet Marketing&#39;, &#39;Leads&#39;, &#39;Marketing&#39;, &#39;...  250.0        1     1   \n51  [&#39;Internet Marketing&#39;, &#39;Leads&#39;, &#39;Marketing&#39;, &#39;...  250.0        1     1   \n\n    days_remaining  verified_payment promotions  contest  price_min  price_max  \n44             6.0                 1         []        0        NaN        NaN  \n51             6.0                 1         []        0        NaN        NaN  ",
      "text/html": "<div>\n<style scoped>\n    .dataframe tbody tr th:only-of-type {\n        vertical-align: middle;\n    }\n\n    .dataframe tbody tr th {\n        vertical-align: top;\n    }\n\n    .dataframe thead th {\n        text-align: right;\n    }\n</style>\n<table border=\"1\" class=\"dataframe\">\n  <thead>\n    <tr style=\"text-align: right;\">\n      <th></th>\n      <th>job_title</th>\n      <th>description</th>\n      <th>url</th>\n      <th>tags</th>\n      <th>price</th>\n      <th>avg_bid</th>\n      <th>bids</th>\n      <th>days_remaining</th>\n      <th>verified_payment</th>\n      <th>promotions</th>\n      <th>contest</th>\n      <th>price_min</th>\n      <th>price_max</th>\n    </tr>\n  </thead>\n  <tbody>\n    <tr>\n      <td>44</td>\n      <td>FREELANCER TELESALES -- 2</td>\n      <td>* DEDICATED TELESALES EXECUTIVE REQUIRED FOR B...</td>\n      <td>/projects/internet-marketing/freelancer-telesa...</td>\n      <td>['Internet Marketing', 'Leads', 'Marketing', '...</td>\n      <td>250.0</td>\n      <td>1</td>\n      <td>1</td>\n      <td>6.0</td>\n      <td>1</td>\n      <td>[]</td>\n      <td>0</td>\n      <td>NaN</td>\n      <td>NaN</td>\n    </tr>\n    <tr>\n      <td>51</td>\n      <td>FREELANCER TELESALES -- 2</td>\n      <td>* DEDICATED TELESALES EXECUTIVE REQUIRED FOR B...</td>\n      <td>/projects/internet-marketing/freelancer-telesa...</td>\n      <td>['Internet Marketing', 'Leads', 'Marketing', '...</td>\n      <td>250.0</td>\n      <td>1</td>\n      <td>1</td>\n      <td>6.0</td>\n      <td>1</td>\n      <td>[]</td>\n      <td>0</td>\n      <td>NaN</td>\n      <td>NaN</td>\n    </tr>\n  </tbody>\n</table>\n</div>"
     },
     "metadata": {},
     "execution_count": 37
    }
   ],
   "source": [
    "df[df['job_title'] == 'FREELANCER TELESALES -- 2']"
   ]
  },
  {
   "cell_type": "code",
   "execution_count": 38,
   "metadata": {},
   "outputs": [
    {
     "output_type": "execute_result",
     "data": {
      "text/plain": "                    job_title  \\\n348  I-deask Mobile Phone App   \n349  I-deask Mobile Phone App   \n\n                                           description  \\\n348  I need both an android &amp; apple app. I would li...   \n349  I need both an android &amp; apple app. I would li...   \n\n                                           url  \\\n348  /projects/android/deask-mobile-phone-app/   \n349  /projects/android/deask-mobile-phone-app/   \n\n                                      tags  price  avg_bid  bids  \\\n348  [&#39;Android&#39;, &#39;Mobile App Development&#39;]  118.0        1     3   \n349  [&#39;Android&#39;, &#39;Mobile App Development&#39;]  118.0        1     3   \n\n     days_remaining  verified_payment promotions  contest  price_min  \\\n348             6.0                 1         []        0        NaN   \n349             6.0                 1         []        0        NaN   \n\n     price_max  \n348        NaN  \n349        NaN  ",
      "text/html": "<div>\n<style scoped>\n    .dataframe tbody tr th:only-of-type {\n        vertical-align: middle;\n    }\n\n    .dataframe tbody tr th {\n        vertical-align: top;\n    }\n\n    .dataframe thead th {\n        text-align: right;\n    }\n</style>\n<table border=\"1\" class=\"dataframe\">\n  <thead>\n    <tr style=\"text-align: right;\">\n      <th></th>\n      <th>job_title</th>\n      <th>description</th>\n      <th>url</th>\n      <th>tags</th>\n      <th>price</th>\n      <th>avg_bid</th>\n      <th>bids</th>\n      <th>days_remaining</th>\n      <th>verified_payment</th>\n      <th>promotions</th>\n      <th>contest</th>\n      <th>price_min</th>\n      <th>price_max</th>\n    </tr>\n  </thead>\n  <tbody>\n    <tr>\n      <td>348</td>\n      <td>I-deask Mobile Phone App</td>\n      <td>I need both an android &amp; apple app. I would li...</td>\n      <td>/projects/android/deask-mobile-phone-app/</td>\n      <td>['Android', 'Mobile App Development']</td>\n      <td>118.0</td>\n      <td>1</td>\n      <td>3</td>\n      <td>6.0</td>\n      <td>1</td>\n      <td>[]</td>\n      <td>0</td>\n      <td>NaN</td>\n      <td>NaN</td>\n    </tr>\n    <tr>\n      <td>349</td>\n      <td>I-deask Mobile Phone App</td>\n      <td>I need both an android &amp; apple app. I would li...</td>\n      <td>/projects/android/deask-mobile-phone-app/</td>\n      <td>['Android', 'Mobile App Development']</td>\n      <td>118.0</td>\n      <td>1</td>\n      <td>3</td>\n      <td>6.0</td>\n      <td>1</td>\n      <td>[]</td>\n      <td>0</td>\n      <td>NaN</td>\n      <td>NaN</td>\n    </tr>\n  </tbody>\n</table>\n</div>"
     },
     "metadata": {},
     "execution_count": 38
    }
   ],
   "source": [
    "df[df['job_title'] == 'I-deask Mobile Phone App']"
   ]
  },
  {
   "cell_type": "code",
   "execution_count": 39,
   "metadata": {},
   "outputs": [
    {
     "output_type": "execute_result",
     "data": {
      "text/plain": "                  job_title  \\\n18472  Macro and sql expert   \n18480  Macro and sql expert   \n\n                                             description  \\\n18472  i need the Macro and sql expert for multiple j...   \n18480  i need the Macro and sql expert for multiple j...   \n\n                                   url  \\\n18472  /projects/sql/macro-sql-expert/   \n18480  /projects/sql/macro-sql-expert/   \n\n                                                    tags  price  avg_bid  \\\n18472  [&#39;Excel Macros&#39;, &#39;Microsoft SQL Server&#39;, &#39;MySQ...    NaN        0   \n18480  [&#39;Excel Macros&#39;, &#39;Microsoft SQL Server&#39;, &#39;MySQ...    NaN        0   \n\n       bids  days_remaining  verified_payment  promotions  contest  price_min  \\\n18472    16             4.0                 0  [&#39;Sealed&#39;]        0       15.0   \n18480    16             4.0                 0  [&#39;Sealed&#39;]        0       15.0   \n\n       price_max  \n18472       59.0  \n18480       59.0  ",
      "text/html": "<div>\n<style scoped>\n    .dataframe tbody tr th:only-of-type {\n        vertical-align: middle;\n    }\n\n    .dataframe tbody tr th {\n        vertical-align: top;\n    }\n\n    .dataframe thead th {\n        text-align: right;\n    }\n</style>\n<table border=\"1\" class=\"dataframe\">\n  <thead>\n    <tr style=\"text-align: right;\">\n      <th></th>\n      <th>job_title</th>\n      <th>description</th>\n      <th>url</th>\n      <th>tags</th>\n      <th>price</th>\n      <th>avg_bid</th>\n      <th>bids</th>\n      <th>days_remaining</th>\n      <th>verified_payment</th>\n      <th>promotions</th>\n      <th>contest</th>\n      <th>price_min</th>\n      <th>price_max</th>\n    </tr>\n  </thead>\n  <tbody>\n    <tr>\n      <td>18472</td>\n      <td>Macro and sql expert</td>\n      <td>i need the Macro and sql expert for multiple j...</td>\n      <td>/projects/sql/macro-sql-expert/</td>\n      <td>['Excel Macros', 'Microsoft SQL Server', 'MySQ...</td>\n      <td>NaN</td>\n      <td>0</td>\n      <td>16</td>\n      <td>4.0</td>\n      <td>0</td>\n      <td>['Sealed']</td>\n      <td>0</td>\n      <td>15.0</td>\n      <td>59.0</td>\n    </tr>\n    <tr>\n      <td>18480</td>\n      <td>Macro and sql expert</td>\n      <td>i need the Macro and sql expert for multiple j...</td>\n      <td>/projects/sql/macro-sql-expert/</td>\n      <td>['Excel Macros', 'Microsoft SQL Server', 'MySQ...</td>\n      <td>NaN</td>\n      <td>0</td>\n      <td>16</td>\n      <td>4.0</td>\n      <td>0</td>\n      <td>['Sealed']</td>\n      <td>0</td>\n      <td>15.0</td>\n      <td>59.0</td>\n    </tr>\n  </tbody>\n</table>\n</div>"
     },
     "metadata": {},
     "execution_count": 39
    }
   ],
   "source": [
    "df[df['job_title'] == 'Macro and sql expert']"
   ]
  },
  {
   "source": [
    "Unclear why these duplicates arised but they need to be removed due to redundancy."
   ],
   "cell_type": "markdown",
   "metadata": {}
  },
  {
   "cell_type": "code",
   "execution_count": 40,
   "metadata": {},
   "outputs": [
    {
     "output_type": "execute_result",
     "data": {
      "text/plain": "(18706, 13)"
     },
     "metadata": {},
     "execution_count": 40
    }
   ],
   "source": [
    "df.shape"
   ]
  },
  {
   "cell_type": "code",
   "execution_count": 41,
   "metadata": {},
   "outputs": [],
   "source": [
    "df.drop_duplicates(inplace=True)"
   ]
  },
  {
   "cell_type": "code",
   "execution_count": 42,
   "metadata": {},
   "outputs": [
    {
     "output_type": "execute_result",
     "data": {
      "text/plain": "(18163, 13)"
     },
     "metadata": {},
     "execution_count": 42
    }
   ],
   "source": [
    "df.shape"
   ]
  },
  {
   "cell_type": "markdown",
   "metadata": {},
   "source": [
    "All the cleaning steps will be functionalized and saved in a script for use in this project."
   ]
  }
 ]
}